{
 "cells": [
  {
   "cell_type": "code",
   "execution_count": null,
   "id": "interior-essay",
   "metadata": {
    "ExecuteTime": {
     "end_time": "2021-04-18T07:02:16.332212Z",
     "start_time": "2021-04-18T07:02:15.040384Z"
    }
   },
   "outputs": [],
   "source": [
    "import PickVel as pv\n",
    "import numpy as np"
   ]
  },
  {
   "cell_type": "code",
   "execution_count": null,
   "id": "fifth-copyright",
   "metadata": {
    "ExecuteTime": {
     "end_time": "2021-04-18T07:02:38.017523Z",
     "start_time": "2021-04-18T07:02:16.520383Z"
    }
   },
   "outputs": [],
   "source": [
    "Data1 = pv.ForesightDataProcess(60, 400)\n",
    "Data1.get_pre_cluster_data()\n",
    "Data1.clean(0.01, True)"
   ]
  },
  {
   "cell_type": "code",
   "execution_count": null,
   "id": "celtic-middle",
   "metadata": {
    "ExecuteTime": {
     "end_time": "2021-04-18T07:12:07.254339Z",
     "start_time": "2021-04-18T07:02:38.053560Z"
    }
   },
   "outputs": [],
   "source": [
    "DB1 = pv.ImpeccableCluster('GMM_Dirichlet', Data1.normalized_data)\n",
    "DB1.rm_repeat_point(DB1.centers)\n",
    "DB1.rm_noise()"
   ]
  },
  {
   "cell_type": "code",
   "execution_count": null,
   "id": "powered-spanking",
   "metadata": {
    "ExecuteTime": {
     "end_time": "2021-04-18T07:12:11.816862Z",
     "start_time": "2021-04-18T07:12:07.284262Z"
    }
   },
   "outputs": [],
   "source": [
    "FF1 = pv.ChumFitting(Data1.reverse_clean(DB1.centers))"
   ]
  },
  {
   "cell_type": "code",
   "execution_count": null,
   "id": "monetary-hours",
   "metadata": {
    "ExecuteTime": {
     "end_time": "2021-04-18T03:50:25.303171Z",
     "start_time": "2021-04-18T03:50:25.034292Z"
    }
   },
   "outputs": [],
   "source": [
    "PD1 = pv.ProwessDraw(Data1,DB1, fitting_function=FF1, \n",
    "                  true_pair=True,\n",
    "                  centers=True,\n",
    "                  fitting=True,\n",
    "                  save=True)"
   ]
  }
 ],
 "metadata": {
  "kernelspec": {
   "display_name": "Python 3",
   "language": "python",
   "name": "python3"
  },
  "language_info": {
   "codemirror_mode": {
    "name": "ipython",
    "version": 3
   },
   "file_extension": ".py",
   "mimetype": "text/x-python",
   "name": "python",
   "nbconvert_exporter": "python",
   "pygments_lexer": "ipython3",
   "version": "3.8.10"
  }
 },
 "nbformat": 4,
 "nbformat_minor": 5
}